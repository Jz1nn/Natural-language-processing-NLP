{
 "cells": [
  {
   "cell_type": "markdown",
   "metadata": {},
   "source": [
    "# 0.0 Imports"
   ]
  },
  {
   "cell_type": "code",
   "execution_count": 1,
   "metadata": {},
   "outputs": [
    {
     "name": "stderr",
     "output_type": "stream",
     "text": [
      "2024-11-10 15:00:45.472153: I tensorflow/core/util/port.cc:110] oneDNN custom operations are on. You may see slightly different numerical results due to floating-point round-off errors from different computation orders. To turn them off, set the environment variable `TF_ENABLE_ONEDNN_OPTS=0`.\n",
      "2024-11-10 15:00:45.474495: I tensorflow/tsl/cuda/cudart_stub.cc:28] Could not find cuda drivers on your machine, GPU will not be used.\n",
      "2024-11-10 15:00:45.544851: I tensorflow/tsl/cuda/cudart_stub.cc:28] Could not find cuda drivers on your machine, GPU will not be used.\n",
      "2024-11-10 15:00:45.546656: I tensorflow/core/platform/cpu_feature_guard.cc:182] This TensorFlow binary is optimized to use available CPU instructions in performance-critical operations.\n",
      "To enable the following instructions: AVX2 AVX_VNNI FMA, in other operations, rebuild TensorFlow with the appropriate compiler flags.\n",
      "2024-11-10 15:00:46.888810: W tensorflow/compiler/tf2tensorrt/utils/py_utils.cc:38] TF-TRT Warning: Could not find TensorRT\n"
     ]
    }
   ],
   "source": [
    "import pandas as pd\n",
    "\n",
    "from keras.models                    import Sequential\n",
    "from keras.layers                    import Dense, Dropout\n",
    "from sklearn.metrics                 import confusion_matrix\n",
    "from sklearn.preprocessing           import LabelEncoder\n",
    "from sklearn.model_selection         import train_test_split\n",
    "from sklearn.feature_extraction.text import CountVectorizer"
   ]
  },
  {
   "cell_type": "code",
   "execution_count": 2,
   "metadata": {},
   "outputs": [
    {
     "data": {
      "text/html": [
       "<div>\n",
       "<style scoped>\n",
       "    .dataframe tbody tr th:only-of-type {\n",
       "        vertical-align: middle;\n",
       "    }\n",
       "\n",
       "    .dataframe tbody tr th {\n",
       "        vertical-align: top;\n",
       "    }\n",
       "\n",
       "    .dataframe thead th {\n",
       "        text-align: right;\n",
       "    }\n",
       "</style>\n",
       "<table border=\"1\" class=\"dataframe\">\n",
       "  <thead>\n",
       "    <tr style=\"text-align: right;\">\n",
       "      <th></th>\n",
       "      <th>Category</th>\n",
       "      <th>Message</th>\n",
       "    </tr>\n",
       "  </thead>\n",
       "  <tbody>\n",
       "    <tr>\n",
       "      <th>0</th>\n",
       "      <td>ham</td>\n",
       "      <td>Go until jurong point, crazy.. Available only ...</td>\n",
       "    </tr>\n",
       "    <tr>\n",
       "      <th>1</th>\n",
       "      <td>ham</td>\n",
       "      <td>Ok lar... Joking wif u oni...</td>\n",
       "    </tr>\n",
       "    <tr>\n",
       "      <th>2</th>\n",
       "      <td>spam</td>\n",
       "      <td>Free entry in 2 a wkly comp to win FA Cup fina...</td>\n",
       "    </tr>\n",
       "    <tr>\n",
       "      <th>3</th>\n",
       "      <td>ham</td>\n",
       "      <td>U dun say so early hor... U c already then say...</td>\n",
       "    </tr>\n",
       "    <tr>\n",
       "      <th>4</th>\n",
       "      <td>ham</td>\n",
       "      <td>Nah I don't think he goes to usf, he lives aro...</td>\n",
       "    </tr>\n",
       "  </tbody>\n",
       "</table>\n",
       "</div>"
      ],
      "text/plain": [
       "  Category                                            Message\n",
       "0      ham  Go until jurong point, crazy.. Available only ...\n",
       "1      ham                      Ok lar... Joking wif u oni...\n",
       "2     spam  Free entry in 2 a wkly comp to win FA Cup fina...\n",
       "3      ham  U dun say so early hor... U c already then say...\n",
       "4      ham  Nah I don't think he goes to usf, he lives aro..."
      ]
     },
     "execution_count": 2,
     "metadata": {},
     "output_type": "execute_result"
    }
   ],
   "source": [
    "spam = pd.read_csv( 'spam.csv' )\n",
    "spam.head()"
   ]
  },
  {
   "cell_type": "code",
   "execution_count": 3,
   "metadata": {},
   "outputs": [
    {
     "name": "stdout",
     "output_type": "stream",
     "text": [
      "[0 0 1 ... 0 0 0]\n"
     ]
    }
   ],
   "source": [
    "label_enc = LabelEncoder()\n",
    "y = label_enc.fit_transform( spam['Category'] )\n",
    "print( y )"
   ]
  },
  {
   "cell_type": "code",
   "execution_count": 4,
   "metadata": {},
   "outputs": [
    {
     "name": "stdout",
     "output_type": "stream",
     "text": [
      "['Go until jurong point, crazy.. Available only in bugis n great world la e buffet... Cine there got amore wat...'\n",
      " 'Ok lar... Joking wif u oni...'\n",
      " \"Free entry in 2 a wkly comp to win FA Cup final tkts 21st May 2005. Text FA to 87121 to receive entry question(std txt rate)T&C's apply 08452810075over18's\"\n",
      " ... 'Pity, * was in mood for that. So...any other suggestions?'\n",
      " \"The guy did some bitching but I acted like i'd be interested in buying something else next week and he gave it to us for free\"\n",
      " 'Rofl. Its true to its name']\n"
     ]
    }
   ],
   "source": [
    "messages = spam['Message'].values\n",
    "\n",
    "X_train, X_test, y_train, y_test = train_test_split( messages, y, test_size = 0.3 )\n",
    "print( messages )"
   ]
  },
  {
   "cell_type": "code",
   "execution_count": 5,
   "metadata": {},
   "outputs": [
    {
     "name": "stdout",
     "output_type": "stream",
     "text": [
      "[[0 0 0 ... 0 0 0]\n",
      " [0 0 0 ... 0 0 0]\n",
      " [0 0 0 ... 0 0 0]\n",
      " ...\n",
      " [0 0 0 ... 0 0 0]\n",
      " [0 0 0 ... 0 0 0]\n",
      " [0 0 0 ... 0 0 0]]\n"
     ]
    }
   ],
   "source": [
    "vectorizer = CountVectorizer()\n",
    "vectorizer.fit( X_train )\n",
    "X_train = vectorizer.transform( X_train )\n",
    "X_test = vectorizer.transform( X_test )\n",
    "print( X_train.toarray() )"
   ]
  },
  {
   "cell_type": "code",
   "execution_count": 6,
   "metadata": {},
   "outputs": [
    {
     "name": "stdout",
     "output_type": "stream",
     "text": [
      "7160\n"
     ]
    }
   ],
   "source": [
    "print( X_train.shape[1] )"
   ]
  },
  {
   "cell_type": "code",
   "execution_count": 7,
   "metadata": {},
   "outputs": [
    {
     "name": "stderr",
     "output_type": "stream",
     "text": [
      "2024-11-10 15:00:48.995501: I tensorflow/compiler/xla/stream_executor/cuda/cuda_gpu_executor.cc:981] could not open file to read NUMA node: /sys/bus/pci/devices/0000:01:00.0/numa_node\n",
      "Your kernel may have been built without NUMA support.\n",
      "2024-11-10 15:00:48.995919: W tensorflow/core/common_runtime/gpu/gpu_device.cc:1960] Cannot dlopen some GPU libraries. Please make sure the missing libraries mentioned above are installed properly if you would like to use GPU. Follow the guide at https://www.tensorflow.org/install/gpu for how to download and setup the required libraries for your platform.\n",
      "Skipping registering GPU devices...\n"
     ]
    }
   ],
   "source": [
    "model = Sequential()\n",
    "model.add( Dense( units=10, activation=\"relu\", input_dim=( X_train.shape[1] ) ) )\n",
    "model.add( Dropout( 0.1 ) )\n",
    "model.add( Dense( units=8, activation=\"relu\" ) )\n",
    "model.add( Dropout( 0.1 ) )\n",
    "model.add( Dense( units=1, activation=\"sigmoid\" ) )"
   ]
  },
  {
   "cell_type": "code",
   "execution_count": 8,
   "metadata": {},
   "outputs": [
    {
     "name": "stdout",
     "output_type": "stream",
     "text": [
      "Model: \"sequential\"\n",
      "_________________________________________________________________\n",
      " Layer (type)                Output Shape              Param #   \n"
     ]
    },
    {
     "name": "stdout",
     "output_type": "stream",
     "text": [
      "=================================================================\n",
      " dense (Dense)               (None, 10)                71610     \n",
      "                                                                 \n",
      " dropout (Dropout)           (None, 10)                0         \n",
      "                                                                 \n",
      " dense_1 (Dense)             (None, 8)                 88        \n",
      "                                                                 \n",
      " dropout_1 (Dropout)         (None, 8)                 0         \n",
      "                                                                 \n",
      " dense_2 (Dense)             (None, 1)                 9         \n",
      "                                                                 \n",
      "=================================================================\n",
      "Total params: 71707 (280.11 KB)\n",
      "Trainable params: 71707 (280.11 KB)\n",
      "Non-trainable params: 0 (0.00 Byte)\n",
      "_________________________________________________________________\n"
     ]
    }
   ],
   "source": [
    "model.compile( loss=\"mean_squared_error\", optimizer=\"adam\", metrics=[\"accuracy\"] )\n",
    "model.summary()"
   ]
  },
  {
   "cell_type": "code",
   "execution_count": 9,
   "metadata": {},
   "outputs": [
    {
     "name": "stdout",
     "output_type": "stream",
     "text": [
      "Epoch 1/20\n",
      "390/390 [==============================] - 3s 6ms/step - loss: 0.0998 - accuracy: 0.9264 - val_loss: 0.0194 - val_accuracy: 0.9827\n",
      "Epoch 2/20\n",
      "390/390 [==============================] - 2s 5ms/step - loss: 0.0151 - accuracy: 0.9864 - val_loss: 0.0121 - val_accuracy: 0.9862\n",
      "Epoch 3/20\n",
      "390/390 [==============================] - 2s 5ms/step - loss: 0.0080 - accuracy: 0.9910 - val_loss: 0.0116 - val_accuracy: 0.9874\n",
      "Epoch 4/20\n",
      "390/390 [==============================] - 2s 5ms/step - loss: 0.0048 - accuracy: 0.9946 - val_loss: 0.0118 - val_accuracy: 0.9850\n",
      "Epoch 5/20\n",
      "390/390 [==============================] - 2s 5ms/step - loss: 0.0039 - accuracy: 0.9951 - val_loss: 0.0122 - val_accuracy: 0.9844\n",
      "Epoch 6/20\n",
      "390/390 [==============================] - 2s 5ms/step - loss: 0.0024 - accuracy: 0.9969 - val_loss: 0.0123 - val_accuracy: 0.9856\n",
      "Epoch 7/20\n",
      "390/390 [==============================] - 2s 5ms/step - loss: 0.0019 - accuracy: 0.9972 - val_loss: 0.0126 - val_accuracy: 0.9856\n",
      "Epoch 8/20\n",
      "390/390 [==============================] - 2s 5ms/step - loss: 0.0015 - accuracy: 0.9977 - val_loss: 0.0125 - val_accuracy: 0.9856\n",
      "Epoch 9/20\n",
      "390/390 [==============================] - 2s 5ms/step - loss: 0.0013 - accuracy: 0.9982 - val_loss: 0.0119 - val_accuracy: 0.9868\n",
      "Epoch 10/20\n",
      "390/390 [==============================] - 2s 5ms/step - loss: 0.0014 - accuracy: 0.9972 - val_loss: 0.0121 - val_accuracy: 0.9874\n",
      "Epoch 11/20\n",
      "390/390 [==============================] - 2s 4ms/step - loss: 0.0010 - accuracy: 0.9985 - val_loss: 0.0128 - val_accuracy: 0.9856\n",
      "Epoch 12/20\n",
      "390/390 [==============================] - 1s 4ms/step - loss: 0.0010 - accuracy: 0.9979 - val_loss: 0.0131 - val_accuracy: 0.9839\n",
      "Epoch 13/20\n",
      "390/390 [==============================] - 1s 4ms/step - loss: 8.0661e-04 - accuracy: 0.9979 - val_loss: 0.0136 - val_accuracy: 0.9833\n",
      "Epoch 14/20\n",
      "390/390 [==============================] - 1s 4ms/step - loss: 7.3751e-04 - accuracy: 0.9982 - val_loss: 0.0135 - val_accuracy: 0.9844\n",
      "Epoch 15/20\n",
      "390/390 [==============================] - 2s 4ms/step - loss: 2.6662e-04 - accuracy: 1.0000 - val_loss: 0.0140 - val_accuracy: 0.9821\n",
      "Epoch 16/20\n",
      "390/390 [==============================] - 1s 4ms/step - loss: 8.6050e-04 - accuracy: 0.9990 - val_loss: 0.0145 - val_accuracy: 0.9827\n",
      "Epoch 17/20\n",
      "390/390 [==============================] - 1s 3ms/step - loss: 5.2887e-04 - accuracy: 1.0000 - val_loss: 0.0149 - val_accuracy: 0.9833\n",
      "Epoch 18/20\n",
      "390/390 [==============================] - 1s 3ms/step - loss: 8.1026e-04 - accuracy: 0.9995 - val_loss: 0.0149 - val_accuracy: 0.9833\n",
      "Epoch 19/20\n",
      "390/390 [==============================] - 2s 4ms/step - loss: 3.3428e-04 - accuracy: 1.0000 - val_loss: 0.0148 - val_accuracy: 0.9833\n",
      "Epoch 20/20\n",
      "390/390 [==============================] - 2s 4ms/step - loss: 3.3028e-04 - accuracy: 0.9997 - val_loss: 0.0151 - val_accuracy: 0.9827\n"
     ]
    },
    {
     "data": {
      "text/plain": [
       "<keras.src.callbacks.History at 0x7fc45bd9a7f0>"
      ]
     },
     "execution_count": 9,
     "metadata": {},
     "output_type": "execute_result"
    }
   ],
   "source": [
    "model.fit( X_train, y_train, epochs=20, batch_size=10, verbose=True, validation_data=(X_test, y_test) )"
   ]
  },
  {
   "cell_type": "code",
   "execution_count": 10,
   "metadata": {},
   "outputs": [
    {
     "name": "stdout",
     "output_type": "stream",
     "text": [
      "53/53 [==============================] - 0s 2ms/step - loss: 0.0151 - accuracy: 0.9827\n",
      "Loss:  0.015149851329624653\n",
      "Accuracy:  0.9826555252075195\n"
     ]
    }
   ],
   "source": [
    "loss, accuracy = model.evaluate( X_test, y_test )\n",
    "print( \"Loss: \", loss )\n",
    "print( \"Accuracy: \", accuracy )"
   ]
  },
  {
   "cell_type": "code",
   "execution_count": 11,
   "metadata": {},
   "outputs": [
    {
     "name": "stdout",
     "output_type": "stream",
     "text": [
      "53/53 [==============================] - 0s 2ms/step\n",
      "[[3.4784858e-08]\n",
      " [2.6606845e-06]\n",
      " [2.2836708e-04]\n",
      " ...\n",
      " [2.1245200e-11]\n",
      " [9.9999917e-01]\n",
      " [9.9848032e-01]]\n"
     ]
    }
   ],
   "source": [
    "new_prev = model.predict( X_test )\n",
    "print( new_prev )"
   ]
  },
  {
   "cell_type": "code",
   "execution_count": 12,
   "metadata": {},
   "outputs": [
    {
     "name": "stdout",
     "output_type": "stream",
     "text": [
      "[[False]\n",
      " [False]\n",
      " [False]\n",
      " ...\n",
      " [False]\n",
      " [ True]\n",
      " [ True]]\n"
     ]
    }
   ],
   "source": [
    "prev = ( new_prev > 0.5 )\n",
    "print( prev )"
   ]
  },
  {
   "cell_type": "code",
   "execution_count": 13,
   "metadata": {},
   "outputs": [
    {
     "name": "stdout",
     "output_type": "stream",
     "text": [
      "[[1442    8]\n",
      " [  21  201]]\n"
     ]
    }
   ],
   "source": [
    "cm = confusion_matrix( y_test, prev )\n",
    "print( cm )"
   ]
  },
  {
   "cell_type": "code",
   "execution_count": null,
   "metadata": {},
   "outputs": [],
   "source": []
  }
 ],
 "metadata": {
  "kernelspec": {
   "display_name": "curso_nlp",
   "language": "python",
   "name": "python3"
  },
  "language_info": {
   "codemirror_mode": {
    "name": "ipython",
    "version": 3
   },
   "file_extension": ".py",
   "mimetype": "text/x-python",
   "name": "python",
   "nbconvert_exporter": "python",
   "pygments_lexer": "ipython3",
   "version": "3.8.20"
  }
 },
 "nbformat": 4,
 "nbformat_minor": 2
}
