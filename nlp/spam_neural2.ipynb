{
 "cells": [
  {
   "cell_type": "markdown",
   "metadata": {},
   "source": [
    "# 0.0 Imports"
   ]
  },
  {
   "cell_type": "code",
   "execution_count": 1,
   "metadata": {},
   "outputs": [
    {
     "name": "stderr",
     "output_type": "stream",
     "text": [
      "2024-11-10 15:00:13.227441: I tensorflow/core/util/port.cc:110] oneDNN custom operations are on. You may see slightly different numerical results due to floating-point round-off errors from different computation orders. To turn them off, set the environment variable `TF_ENABLE_ONEDNN_OPTS=0`.\n",
      "2024-11-10 15:00:13.229772: I tensorflow/tsl/cuda/cudart_stub.cc:28] Could not find cuda drivers on your machine, GPU will not be used.\n",
      "2024-11-10 15:00:13.288543: I tensorflow/tsl/cuda/cudart_stub.cc:28] Could not find cuda drivers on your machine, GPU will not be used.\n",
      "2024-11-10 15:00:13.289808: I tensorflow/core/platform/cpu_feature_guard.cc:182] This TensorFlow binary is optimized to use available CPU instructions in performance-critical operations.\n",
      "To enable the following instructions: AVX2 AVX_VNNI FMA, in other operations, rebuild TensorFlow with the appropriate compiler flags.\n",
      "2024-11-10 15:00:14.402056: W tensorflow/compiler/tf2tensorrt/utils/py_utils.cc:38] TF-TRT Warning: Could not find TensorRT\n"
     ]
    }
   ],
   "source": [
    "import pandas as pd\n",
    "\n",
    "from keras.models                    import Sequential\n",
    "from keras.layers                    import Dense, Dropout, Flatten, Embedding\n",
    "from keras.preprocessing.text        import Tokenizer\n",
    "from keras.preprocessing.sequence    import pad_sequences\n",
    "\n",
    "from sklearn.metrics                 import confusion_matrix\n",
    "from sklearn.preprocessing           import LabelEncoder\n",
    "from sklearn.model_selection         import train_test_split"
   ]
  },
  {
   "cell_type": "code",
   "execution_count": 2,
   "metadata": {},
   "outputs": [
    {
     "data": {
      "text/html": [
       "<div>\n",
       "<style scoped>\n",
       "    .dataframe tbody tr th:only-of-type {\n",
       "        vertical-align: middle;\n",
       "    }\n",
       "\n",
       "    .dataframe tbody tr th {\n",
       "        vertical-align: top;\n",
       "    }\n",
       "\n",
       "    .dataframe thead th {\n",
       "        text-align: right;\n",
       "    }\n",
       "</style>\n",
       "<table border=\"1\" class=\"dataframe\">\n",
       "  <thead>\n",
       "    <tr style=\"text-align: right;\">\n",
       "      <th></th>\n",
       "      <th>Category</th>\n",
       "      <th>Message</th>\n",
       "    </tr>\n",
       "  </thead>\n",
       "  <tbody>\n",
       "    <tr>\n",
       "      <th>0</th>\n",
       "      <td>ham</td>\n",
       "      <td>Go until jurong point, crazy.. Available only ...</td>\n",
       "    </tr>\n",
       "    <tr>\n",
       "      <th>1</th>\n",
       "      <td>ham</td>\n",
       "      <td>Ok lar... Joking wif u oni...</td>\n",
       "    </tr>\n",
       "    <tr>\n",
       "      <th>2</th>\n",
       "      <td>spam</td>\n",
       "      <td>Free entry in 2 a wkly comp to win FA Cup fina...</td>\n",
       "    </tr>\n",
       "    <tr>\n",
       "      <th>3</th>\n",
       "      <td>ham</td>\n",
       "      <td>U dun say so early hor... U c already then say...</td>\n",
       "    </tr>\n",
       "    <tr>\n",
       "      <th>4</th>\n",
       "      <td>ham</td>\n",
       "      <td>Nah I don't think he goes to usf, he lives aro...</td>\n",
       "    </tr>\n",
       "  </tbody>\n",
       "</table>\n",
       "</div>"
      ],
      "text/plain": [
       "  Category                                            Message\n",
       "0      ham  Go until jurong point, crazy.. Available only ...\n",
       "1      ham                      Ok lar... Joking wif u oni...\n",
       "2     spam  Free entry in 2 a wkly comp to win FA Cup fina...\n",
       "3      ham  U dun say so early hor... U c already then say...\n",
       "4      ham  Nah I don't think he goes to usf, he lives aro..."
      ]
     },
     "execution_count": 2,
     "metadata": {},
     "output_type": "execute_result"
    }
   ],
   "source": [
    "spam = pd.read_csv( 'spam.csv' )\n",
    "spam.head()"
   ]
  },
  {
   "cell_type": "code",
   "execution_count": 3,
   "metadata": {},
   "outputs": [
    {
     "name": "stdout",
     "output_type": "stream",
     "text": [
      "[0 0 1 ... 0 0 0]\n"
     ]
    }
   ],
   "source": [
    "label_enc = LabelEncoder()\n",
    "y = label_enc.fit_transform( spam['Category'] )\n",
    "print( y )"
   ]
  },
  {
   "cell_type": "code",
   "execution_count": 4,
   "metadata": {},
   "outputs": [],
   "source": [
    "messages = spam['Message'].values\n",
    "\n",
    "X_train, X_test, y_train, y_test = train_test_split( messages, y, test_size = 0.3 )"
   ]
  },
  {
   "cell_type": "code",
   "execution_count": 5,
   "metadata": {},
   "outputs": [],
   "source": [
    "token = Tokenizer( num_words=1000 )\n",
    "token.fit_on_texts( X_train )\n",
    "\n",
    "X_train = token.texts_to_sequences( X_train )\n",
    "X_test = token.texts_to_sequences( X_test )"
   ]
  },
  {
   "cell_type": "code",
   "execution_count": 6,
   "metadata": {},
   "outputs": [
    {
     "name": "stdout",
     "output_type": "stream",
     "text": [
      "3900\n"
     ]
    }
   ],
   "source": [
    "print( len( X_train ) )"
   ]
  },
  {
   "cell_type": "code",
   "execution_count": 7,
   "metadata": {},
   "outputs": [
    {
     "name": "stdout",
     "output_type": "stream",
     "text": [
      "[[841 472  39 ...   0   0   0]\n",
      " [ 57 142  12 ...   0   0   0]\n",
      " [ 85   6 528 ...   0   0   0]\n",
      " ...\n",
      " [299  39 221 ...   0   0   0]\n",
      " [111  40   9 ...   0   0   0]\n",
      " [  3  13 633 ...   0   0   0]]\n"
     ]
    }
   ],
   "source": [
    "X_train = pad_sequences( X_train, padding='post', maxlen=500 )\n",
    "X_test = pad_sequences( X_test, padding='post', maxlen=500 )\n",
    "print( X_train )"
   ]
  },
  {
   "cell_type": "code",
   "execution_count": 8,
   "metadata": {},
   "outputs": [
    {
     "name": "stdout",
     "output_type": "stream",
     "text": [
      "7431\n"
     ]
    }
   ],
   "source": [
    "print( len( token.word_index) )"
   ]
  },
  {
   "cell_type": "code",
   "execution_count": 9,
   "metadata": {},
   "outputs": [
    {
     "name": "stderr",
     "output_type": "stream",
     "text": [
      "2024-11-10 15:00:16.402451: I tensorflow/compiler/xla/stream_executor/cuda/cuda_gpu_executor.cc:981] could not open file to read NUMA node: /sys/bus/pci/devices/0000:01:00.0/numa_node\n",
      "Your kernel may have been built without NUMA support.\n",
      "2024-11-10 15:00:16.402913: W tensorflow/core/common_runtime/gpu/gpu_device.cc:1960] Cannot dlopen some GPU libraries. Please make sure the missing libraries mentioned above are installed properly if you would like to use GPU. Follow the guide at https://www.tensorflow.org/install/gpu for how to download and setup the required libraries for your platform.\n",
      "Skipping registering GPU devices...\n"
     ]
    }
   ],
   "source": [
    "model = Sequential()\n",
    "model.add( Embedding( input_dim=len( token.word_index ), output_dim=50, input_length=500 ) )\n",
    "model.add( Flatten() )\n",
    "model.add( Dense( units=10, activation='relu' ) )\n",
    "model.add( Dropout( 0.1 ) )\n",
    "model.add( Dense( units=1, activation='sigmoid' ) )\n"
   ]
  },
  {
   "cell_type": "code",
   "execution_count": 10,
   "metadata": {},
   "outputs": [
    {
     "name": "stdout",
     "output_type": "stream",
     "text": [
      "Model: \"sequential\"\n",
      "_________________________________________________________________\n",
      " Layer (type)                Output Shape              Param #   \n",
      "=================================================================\n",
      " embedding (Embedding)       (None, 500, 50)           371550    \n",
      "                                                                 \n",
      " flatten (Flatten)           (None, 25000)             0         \n",
      "                                                                 \n",
      " dense (Dense)               (None, 10)                250010    \n",
      "                                                                 \n",
      " dropout (Dropout)           (None, 10)                0         \n",
      "                                                                 \n",
      " dense_1 (Dense)             (None, 1)                 11        \n",
      "                                                                 \n",
      "=================================================================\n",
      "Total params: 621571 (2.37 MB)\n",
      "Trainable params: 621571 (2.37 MB)\n",
      "Non-trainable params: 0 (0.00 Byte)\n",
      "_________________________________________________________________\n"
     ]
    }
   ],
   "source": [
    "model.compile( loss='mean_squared_error', optimizer='adam', metrics=['accuracy'] )\n",
    "model.summary()"
   ]
  },
  {
   "cell_type": "code",
   "execution_count": 11,
   "metadata": {},
   "outputs": [
    {
     "name": "stdout",
     "output_type": "stream",
     "text": [
      "Epoch 1/20\n",
      "390/390 [==============================] - 4s 8ms/step - loss: 0.0733 - accuracy: 0.9128 - val_loss: 0.0417 - val_accuracy: 0.9785\n",
      "Epoch 2/20\n",
      "390/390 [==============================] - 3s 7ms/step - loss: 0.0354 - accuracy: 0.9844 - val_loss: 0.0350 - val_accuracy: 0.9785\n",
      "Epoch 3/20\n",
      "390/390 [==============================] - 3s 7ms/step - loss: 0.0265 - accuracy: 0.9885 - val_loss: 0.0298 - val_accuracy: 0.9797\n",
      "Epoch 4/20\n",
      "390/390 [==============================] - 3s 7ms/step - loss: 0.0207 - accuracy: 0.9915 - val_loss: 0.0265 - val_accuracy: 0.9791\n",
      "Epoch 5/20\n",
      "390/390 [==============================] - 3s 7ms/step - loss: 0.0162 - accuracy: 0.9933 - val_loss: 0.0243 - val_accuracy: 0.9809\n",
      "Epoch 6/20\n",
      "390/390 [==============================] - 3s 7ms/step - loss: 0.0134 - accuracy: 0.9941 - val_loss: 0.0228 - val_accuracy: 0.9797\n",
      "Epoch 7/20\n",
      "390/390 [==============================] - 3s 6ms/step - loss: 0.0109 - accuracy: 0.9946 - val_loss: 0.0210 - val_accuracy: 0.9803\n",
      "Epoch 8/20\n",
      "390/390 [==============================] - 3s 8ms/step - loss: 0.0087 - accuracy: 0.9956 - val_loss: 0.0202 - val_accuracy: 0.9809\n",
      "Epoch 9/20\n",
      "390/390 [==============================] - 3s 6ms/step - loss: 0.0080 - accuracy: 0.9956 - val_loss: 0.0206 - val_accuracy: 0.9815\n",
      "Epoch 10/20\n",
      "390/390 [==============================] - 2s 6ms/step - loss: 0.0058 - accuracy: 0.9951 - val_loss: 0.0191 - val_accuracy: 0.9797\n",
      "Epoch 11/20\n",
      "390/390 [==============================] - 3s 7ms/step - loss: 0.0042 - accuracy: 0.9956 - val_loss: 0.0164 - val_accuracy: 0.9815\n",
      "Epoch 12/20\n",
      "390/390 [==============================] - 2s 6ms/step - loss: 0.0039 - accuracy: 0.9959 - val_loss: 0.0168 - val_accuracy: 0.9809\n",
      "Epoch 13/20\n",
      "390/390 [==============================] - 3s 7ms/step - loss: 0.0032 - accuracy: 0.9967 - val_loss: 0.0173 - val_accuracy: 0.9809\n",
      "Epoch 14/20\n",
      "390/390 [==============================] - 3s 7ms/step - loss: 0.0031 - accuracy: 0.9967 - val_loss: 0.0174 - val_accuracy: 0.9821\n",
      "Epoch 15/20\n",
      "390/390 [==============================] - 3s 7ms/step - loss: 0.0036 - accuracy: 0.9962 - val_loss: 0.0208 - val_accuracy: 0.9773\n",
      "Epoch 16/20\n",
      "390/390 [==============================] - 3s 7ms/step - loss: 0.0032 - accuracy: 0.9967 - val_loss: 0.0164 - val_accuracy: 0.9839\n",
      "Epoch 17/20\n",
      "390/390 [==============================] - 3s 8ms/step - loss: 0.0033 - accuracy: 0.9964 - val_loss: 0.0163 - val_accuracy: 0.9839\n",
      "Epoch 18/20\n",
      "390/390 [==============================] - 3s 7ms/step - loss: 0.0031 - accuracy: 0.9967 - val_loss: 0.0162 - val_accuracy: 0.9833\n",
      "Epoch 19/20\n",
      "390/390 [==============================] - 3s 7ms/step - loss: 0.0031 - accuracy: 0.9967 - val_loss: 0.0177 - val_accuracy: 0.9821\n",
      "Epoch 20/20\n",
      "390/390 [==============================] - 3s 6ms/step - loss: 0.0036 - accuracy: 0.9956 - val_loss: 0.0182 - val_accuracy: 0.9815\n"
     ]
    },
    {
     "data": {
      "text/plain": [
       "<keras.src.callbacks.History at 0x7f379deab910>"
      ]
     },
     "execution_count": 11,
     "metadata": {},
     "output_type": "execute_result"
    }
   ],
   "source": [
    "model.fit( X_train, y_train, epochs=20, batch_size=10, verbose=True, validation_data=(X_test, y_test) )"
   ]
  },
  {
   "cell_type": "code",
   "execution_count": 12,
   "metadata": {},
   "outputs": [
    {
     "name": "stdout",
     "output_type": "stream",
     "text": [
      "53/53 [==============================] - 0s 4ms/step - loss: 0.0182 - accuracy: 0.9815\n",
      "Loss: 0.018202733248472214\n",
      "Accuracy: 0.9814593195915222\n"
     ]
    }
   ],
   "source": [
    "loss, accuracy = model.evaluate( X_test, y_test )\n",
    "print( 'Loss:', loss )\n",
    "print( 'Accuracy:', accuracy )"
   ]
  },
  {
   "cell_type": "code",
   "execution_count": 13,
   "metadata": {},
   "outputs": [
    {
     "name": "stdout",
     "output_type": "stream",
     "text": [
      "53/53 [==============================] - 0s 4ms/step\n",
      "[[1.9732613e-11]\n",
      " [1.1372144e-23]\n",
      " [4.0002723e-18]\n",
      " ...\n",
      " [1.8753337e-14]\n",
      " [3.6124206e-15]\n",
      " [2.4785560e-16]]\n"
     ]
    }
   ],
   "source": [
    "new_prev = model.predict( X_test )\n",
    "print( new_prev )"
   ]
  },
  {
   "cell_type": "code",
   "execution_count": 14,
   "metadata": {},
   "outputs": [
    {
     "name": "stdout",
     "output_type": "stream",
     "text": [
      "[[False]\n",
      " [False]\n",
      " [False]\n",
      " ...\n",
      " [False]\n",
      " [False]\n",
      " [False]]\n"
     ]
    }
   ],
   "source": [
    "prevision = ( new_prev > 0.5 )\n",
    "print( prevision )"
   ]
  },
  {
   "cell_type": "code",
   "execution_count": 15,
   "metadata": {},
   "outputs": [
    {
     "name": "stdout",
     "output_type": "stream",
     "text": [
      "[[1450    2]\n",
      " [  29  191]]\n"
     ]
    }
   ],
   "source": [
    "cm = confusion_matrix( y_test, prevision )\n",
    "print( cm )"
   ]
  },
  {
   "cell_type": "code",
   "execution_count": null,
   "metadata": {},
   "outputs": [],
   "source": []
  }
 ],
 "metadata": {
  "kernelspec": {
   "display_name": "curso_nlp",
   "language": "python",
   "name": "python3"
  },
  "language_info": {
   "codemirror_mode": {
    "name": "ipython",
    "version": 3
   },
   "file_extension": ".py",
   "mimetype": "text/x-python",
   "name": "python",
   "nbconvert_exporter": "python",
   "pygments_lexer": "ipython3",
   "version": "3.8.20"
  }
 },
 "nbformat": 4,
 "nbformat_minor": 2
}
