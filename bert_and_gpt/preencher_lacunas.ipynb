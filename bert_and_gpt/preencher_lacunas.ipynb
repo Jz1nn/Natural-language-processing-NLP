{
 "cells": [
  {
   "cell_type": "markdown",
   "metadata": {},
   "source": [
    "# 0.0 Imports"
   ]
  },
  {
   "cell_type": "code",
   "execution_count": 3,
   "metadata": {},
   "outputs": [],
   "source": [
    "import transformers\n",
    "from transformers import pipeline"
   ]
  },
  {
   "cell_type": "code",
   "execution_count": 4,
   "metadata": {},
   "outputs": [
    {
     "name": "stderr",
     "output_type": "stream",
     "text": [
      "2024-11-11 10:54:06.597386: I tensorflow/compiler/xla/stream_executor/cuda/cuda_gpu_executor.cc:981] could not open file to read NUMA node: /sys/bus/pci/devices/0000:01:00.0/numa_node\n",
      "Your kernel may have been built without NUMA support.\n",
      "2024-11-11 10:54:06.597667: W tensorflow/core/common_runtime/gpu/gpu_device.cc:1960] Cannot dlopen some GPU libraries. Please make sure the missing libraries mentioned above are installed properly if you would like to use GPU. Follow the guide at https://www.tensorflow.org/install/gpu for how to download and setup the required libraries for your platform.\n",
      "Skipping registering GPU devices...\n",
      "All model checkpoint layers were used when initializing TFBertForMaskedLM.\n",
      "\n",
      "All the layers of TFBertForMaskedLM were initialized from the model checkpoint at neuralmind/bert-base-portuguese-cased.\n",
      "If your task is similar to the task the model of the checkpoint was trained on, you can already use TFBertForMaskedLM for predictions without further training.\n"
     ]
    }
   ],
   "source": [
    "mask = pipeline('fill-mask', model='neuralmind/bert-base-portuguese-cased')"
   ]
  },
  {
   "cell_type": "code",
   "execution_count": 5,
   "metadata": {},
   "outputs": [
    {
     "name": "stdout",
     "output_type": "stream",
     "text": [
      "{'score': 0.6416003108024597, 'token': 8105, 'token_str': 'chão', 'sequence': 'Existe uma chance do copo cair no chão.'}\n",
      "{'score': 0.02822193317115307, 'token': 4848, 'token_str': 'fogo', 'sequence': 'Existe uma chance do copo cair no fogo.'}\n",
      "{'score': 0.026749160140752792, 'token': 2187, 'token_str': 'rio', 'sequence': 'Existe uma chance do copo cair no rio.'}\n",
      "{'score': 0.025666043162345886, 'token': 528, 'token_str': 'mar', 'sequence': 'Existe uma chance do copo cair no mar.'}\n",
      "{'score': 0.01955987699329853, 'token': 14575, 'token_str': 'lixo', 'sequence': 'Existe uma chance do copo cair no lixo.'}\n"
     ]
    }
   ],
   "source": [
    "text = mask('Existe uma chance do copo cair no [MASK].')\n",
    "for i in range(len(text)):\n",
    "    print(text[i])"
   ]
  },
  {
   "cell_type": "code",
   "execution_count": 6,
   "metadata": {},
   "outputs": [
    {
     "name": "stdout",
     "output_type": "stream",
     "text": [
      "[{'score': 0.6416003108024597, 'token': 8105, 'token_str': 'chão', 'sequence': 'Existe uma chance do copo cair no chão.'}, {'score': 0.02822193317115307, 'token': 4848, 'token_str': 'fogo', 'sequence': 'Existe uma chance do copo cair no fogo.'}, {'score': 0.026749160140752792, 'token': 2187, 'token_str': 'rio', 'sequence': 'Existe uma chance do copo cair no rio.'}, {'score': 0.025666043162345886, 'token': 528, 'token_str': 'mar', 'sequence': 'Existe uma chance do copo cair no mar.'}, {'score': 0.01955987699329853, 'token': 14575, 'token_str': 'lixo', 'sequence': 'Existe uma chance do copo cair no lixo.'}]\n",
      "[{'score': 0.49698883295059204, 'token': 771, 'token_str': 'Brasil', 'sequence': 'Brasília é a capital do Brasil.'}, {'score': 0.2514724135398865, 'token': 806, 'token_str': 'país', 'sequence': 'Brasília é a capital do país.'}, {'score': 0.04954085126519203, 'token': 4953, 'token_str': 'País', 'sequence': 'Brasília é a capital do País.'}, {'score': 0.01989114098250866, 'token': 1147, 'token_str': 'mundo', 'sequence': 'Brasília é a capital do mundo.'}, {'score': 0.00874280370771885, 'token': 1477, 'token_str': 'Estado', 'sequence': 'Brasília é a capital do Estado.'}]\n"
     ]
    }
   ],
   "source": [
    "text = mask(['Existe uma chance do copo cair no [MASK].', 'Brasília é a capital do [MASK].'])\n",
    "for i in range(len(text)):\n",
    "    print(text[i])"
   ]
  },
  {
   "cell_type": "code",
   "execution_count": null,
   "metadata": {},
   "outputs": [],
   "source": []
  }
 ],
 "metadata": {
  "kernelspec": {
   "display_name": "curso_nlp",
   "language": "python",
   "name": "python3"
  },
  "language_info": {
   "codemirror_mode": {
    "name": "ipython",
    "version": 3
   },
   "file_extension": ".py",
   "mimetype": "text/x-python",
   "name": "python",
   "nbconvert_exporter": "python",
   "pygments_lexer": "ipython3",
   "version": "3.8.20"
  }
 },
 "nbformat": 4,
 "nbformat_minor": 2
}
